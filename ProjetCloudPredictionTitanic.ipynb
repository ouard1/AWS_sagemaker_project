{
 "cells": [
  {
   "cell_type": "markdown",
   "id": "f24be298-257b-4a6b-b934-7b571b9be2b0",
   "metadata": {
    "tags": []
   },
   "source": [
    "\n",
    "Titanic Survival Prediction with SageMaker\n",
    "This notebook walks through the steps to:\n",
    "1. Read and split Titanic data into train/test sets.\n",
    "2. Train an XGBoost model using SageMaker.\n",
    "3. Make predictions on the test set and calculate accuracy.\n",
    "4. Monitor the training and predictions with CloudWatch.\n"
   ]
  },
  {
   "cell_type": "code",
   "execution_count": 4,
   "id": "00af32a4-653f-4b59-b599-7556d21b5272",
   "metadata": {
    "tags": []
   },
   "outputs": [],
   "source": [
    "import boto3\n",
    "import pandas as pd\n",
    "from sklearn.model_selection import train_test_split\n",
    "import sagemaker\n",
    "from sagemaker import Session\n",
    "from sagemaker.inputs import TrainingInput\n",
    "from sagemaker.estimator import Estimator\n",
    "from sklearn.metrics import accuracy_score"
   ]
  },
  {
   "cell_type": "code",
   "execution_count": 7,
   "id": "d9b6146a-b4e5-4395-a791-abb441c7134c",
   "metadata": {
    "tags": []
   },
   "outputs": [],
   "source": [
    "bucket_name = 'test-bucket-hamady'\n",
    "session = sagemaker.Session()\n",
    "role = sagemaker.get_execution_role()"
   ]
  },
  {
   "cell_type": "code",
   "execution_count": 13,
   "id": "b8d8601d-7d25-4aec-b82a-91595c262131",
   "metadata": {
    "tags": []
   },
   "outputs": [],
   "source": [
    "\n",
    "s3 = boto3.client('s3')\n",
    "response = s3.get_object(Bucket=bucket_name, Key=\"processed/titanic.csv\")\n",
    "titanic_data = pd.read_csv(response['Body'])\n",
    "\n",
    "\n",
    "X = titanic_data.drop(\"Survived\", axis=1)\n",
    "y = titanic_data[\"Survived\"]\n",
    "X_train, X_test, y_train, y_test = train_test_split(X, y, test_size=0.2, random_state=42)\n",
    "\n",
    "\n",
    "train_data = X_train.copy()\n",
    "train_data['Survived'] = y_train\n",
    "train_data = train_data[[\"Survived\", \"Pclass\", \"Sex\", \"Age\", \"SibSp\", \"Parch\", \"Fare\", \"Embarked_Q\", \"Embarked_S\"]]\n",
    "\n",
    "\n",
    "train_data.to_csv(\"X_train_with_labels.csv\", index=False)\n",
    "X_test.to_csv(\"X_test.csv\", index=False)\n",
    "y_test.to_csv(\"y_test.csv\", index=False)\n",
    "s3.upload_file(\"X_train_with_labels.csv\", bucket_name, \"splitData/X_train_with_labels.csv\")\n",
    "s3.upload_file(\"X_test.csv\", bucket_name, \"splitData/X_test.csv\")\n",
    "s3.upload_file(\"y_test.csv\", bucket_name, \"splitData/y_test.csv\")"
   ]
  },
  {
   "cell_type": "code",
   "execution_count": 15,
   "id": "70b284a3-21db-46cf-b2b8-f3e452d3d22c",
   "metadata": {
    "tags": []
   },
   "outputs": [
    {
     "data": {
      "text/html": [
       "<pre style=\"white-space:pre;overflow-x:auto;line-height:normal;font-family:Menlo,'DejaVu Sans Mono',consolas,'Courier New',monospace\"><span style=\"color: #7fbfbf; text-decoration-color: #7fbfbf\">[01/04/25 05:14:02] </span><span style=\"color: #0069ff; text-decoration-color: #0069ff; font-weight: bold\">INFO    </span> Ignoring unnecessary instance type: <span style=\"color: #e100e1; text-decoration-color: #e100e1; font-style: italic\">None</span>.                            <a href=\"file:///home/ec2-user/anaconda3/envs/tensorflow2_p310/lib/python3.10/site-packages/sagemaker/image_uris.py\" target=\"_blank\"><span style=\"color: #7f7f7f; text-decoration-color: #7f7f7f\">image_uris.py</span></a><span style=\"color: #7f7f7f; text-decoration-color: #7f7f7f\">:</span><a href=\"file:///home/ec2-user/anaconda3/envs/tensorflow2_p310/lib/python3.10/site-packages/sagemaker/image_uris.py#528\" target=\"_blank\"><span style=\"color: #7f7f7f; text-decoration-color: #7f7f7f\">528</span></a>\n",
       "</pre>\n"
      ],
      "text/plain": [
       "\u001b[2;36m[01/04/25 05:14:02]\u001b[0m\u001b[2;36m \u001b[0m\u001b[1;38;2;0;105;255mINFO    \u001b[0m Ignoring unnecessary instance type: \u001b[3;38;2;225;0;225mNone\u001b[0m.                            \u001b]8;id=253361;file:///home/ec2-user/anaconda3/envs/tensorflow2_p310/lib/python3.10/site-packages/sagemaker/image_uris.py\u001b\\\u001b[2mimage_uris.py\u001b[0m\u001b]8;;\u001b\\\u001b[2m:\u001b[0m\u001b]8;id=82217;file:///home/ec2-user/anaconda3/envs/tensorflow2_p310/lib/python3.10/site-packages/sagemaker/image_uris.py#528\u001b\\\u001b[2m528\u001b[0m\u001b]8;;\u001b\\\n"
      ]
     },
     "metadata": {},
     "output_type": "display_data"
    },
    {
     "data": {
      "text/html": [
       "<pre style=\"white-space:pre;overflow-x:auto;line-height:normal;font-family:Menlo,'DejaVu Sans Mono',consolas,'Courier New',monospace\"><span style=\"color: #7fbfbf; text-decoration-color: #7fbfbf\">                    </span><span style=\"color: #0069ff; text-decoration-color: #0069ff; font-weight: bold\">INFO    </span> SageMaker Python SDK will collect telemetry to help us better  <a href=\"file:///home/ec2-user/anaconda3/envs/tensorflow2_p310/lib/python3.10/site-packages/sagemaker/telemetry/telemetry_logging.py\" target=\"_blank\"><span style=\"color: #7f7f7f; text-decoration-color: #7f7f7f\">telemetry_logging.py</span></a><span style=\"color: #7f7f7f; text-decoration-color: #7f7f7f\">:</span><a href=\"file:///home/ec2-user/anaconda3/envs/tensorflow2_p310/lib/python3.10/site-packages/sagemaker/telemetry/telemetry_logging.py#90\" target=\"_blank\"><span style=\"color: #7f7f7f; text-decoration-color: #7f7f7f\">90</span></a>\n",
       "<span style=\"color: #7fbfbf; text-decoration-color: #7fbfbf\">                    </span>         understand our user's needs, diagnose issues, and deliver      <span style=\"color: #7f7f7f; text-decoration-color: #7f7f7f\">                       </span>\n",
       "<span style=\"color: #7fbfbf; text-decoration-color: #7fbfbf\">                    </span>         additional features.                                           <span style=\"color: #7f7f7f; text-decoration-color: #7f7f7f\">                       </span>\n",
       "<span style=\"color: #7fbfbf; text-decoration-color: #7fbfbf\">                    </span>         To opt out of telemetry, please disable via TelemetryOptOut    <span style=\"color: #7f7f7f; text-decoration-color: #7f7f7f\">                       </span>\n",
       "<span style=\"color: #7fbfbf; text-decoration-color: #7fbfbf\">                    </span>         parameter in SDK defaults config. For more information, refer  <span style=\"color: #7f7f7f; text-decoration-color: #7f7f7f\">                       </span>\n",
       "<span style=\"color: #7fbfbf; text-decoration-color: #7fbfbf\">                    </span>         to                                                             <span style=\"color: #7f7f7f; text-decoration-color: #7f7f7f\">                       </span>\n",
       "<span style=\"color: #7fbfbf; text-decoration-color: #7fbfbf\">                    </span>         <span style=\"color: #0069ff; text-decoration-color: #0069ff; text-decoration: underline\">https://sagemaker.readthedocs.io/en/stable/overview.html#confi</span> <span style=\"color: #7f7f7f; text-decoration-color: #7f7f7f\">                       </span>\n",
       "<span style=\"color: #7fbfbf; text-decoration-color: #7fbfbf\">                    </span>         <span style=\"color: #0069ff; text-decoration-color: #0069ff; text-decoration: underline\">guring-and-using-defaults-with-the-sagemaker-python-sdk.</span>       <span style=\"color: #7f7f7f; text-decoration-color: #7f7f7f\">                       </span>\n",
       "</pre>\n"
      ],
      "text/plain": [
       "\u001b[2;36m                   \u001b[0m\u001b[2;36m \u001b[0m\u001b[1;38;2;0;105;255mINFO    \u001b[0m SageMaker Python SDK will collect telemetry to help us better  \u001b]8;id=407442;file:///home/ec2-user/anaconda3/envs/tensorflow2_p310/lib/python3.10/site-packages/sagemaker/telemetry/telemetry_logging.py\u001b\\\u001b[2mtelemetry_logging.py\u001b[0m\u001b]8;;\u001b\\\u001b[2m:\u001b[0m\u001b]8;id=848531;file:///home/ec2-user/anaconda3/envs/tensorflow2_p310/lib/python3.10/site-packages/sagemaker/telemetry/telemetry_logging.py#90\u001b\\\u001b[2m90\u001b[0m\u001b]8;;\u001b\\\n",
       "\u001b[2;36m                    \u001b[0m         understand our user's needs, diagnose issues, and deliver      \u001b[2m                       \u001b[0m\n",
       "\u001b[2;36m                    \u001b[0m         additional features.                                           \u001b[2m                       \u001b[0m\n",
       "\u001b[2;36m                    \u001b[0m         To opt out of telemetry, please disable via TelemetryOptOut    \u001b[2m                       \u001b[0m\n",
       "\u001b[2;36m                    \u001b[0m         parameter in SDK defaults config. For more information, refer  \u001b[2m                       \u001b[0m\n",
       "\u001b[2;36m                    \u001b[0m         to                                                             \u001b[2m                       \u001b[0m\n",
       "\u001b[2;36m                    \u001b[0m         \u001b[4;38;2;0;105;255mhttps://sagemaker.readthedocs.io/en/stable/overview.html#confi\u001b[0m \u001b[2m                       \u001b[0m\n",
       "\u001b[2;36m                    \u001b[0m         \u001b[4;38;2;0;105;255mguring-and-using-defaults-with-the-sagemaker-python-sdk.\u001b[0m       \u001b[2m                       \u001b[0m\n"
      ]
     },
     "metadata": {},
     "output_type": "display_data"
    },
    {
     "data": {
      "text/html": [
       "<pre style=\"white-space:pre;overflow-x:auto;line-height:normal;font-family:Menlo,'DejaVu Sans Mono',consolas,'Courier New',monospace\"><span style=\"color: #7fbfbf; text-decoration-color: #7fbfbf\">                    </span><span style=\"color: #0069ff; text-decoration-color: #0069ff; font-weight: bold\">INFO    </span> Creating training-job with name:                                       <a href=\"file:///home/ec2-user/anaconda3/envs/tensorflow2_p310/lib/python3.10/site-packages/sagemaker/session.py\" target=\"_blank\"><span style=\"color: #7f7f7f; text-decoration-color: #7f7f7f\">session.py</span></a><span style=\"color: #7f7f7f; text-decoration-color: #7f7f7f\">:</span><a href=\"file:///home/ec2-user/anaconda3/envs/tensorflow2_p310/lib/python3.10/site-packages/sagemaker/session.py#1042\" target=\"_blank\"><span style=\"color: #7f7f7f; text-decoration-color: #7f7f7f\">1042</span></a>\n",
       "<span style=\"color: #7fbfbf; text-decoration-color: #7fbfbf\">                    </span>         sagemaker-xgboost-<span style=\"color: #008080; text-decoration-color: #008080; font-weight: bold\">2025</span>-01-04-05-14-02-316                              <span style=\"color: #7f7f7f; text-decoration-color: #7f7f7f\">               </span>\n",
       "</pre>\n"
      ],
      "text/plain": [
       "\u001b[2;36m                   \u001b[0m\u001b[2;36m \u001b[0m\u001b[1;38;2;0;105;255mINFO    \u001b[0m Creating training-job with name:                                       \u001b]8;id=309344;file:///home/ec2-user/anaconda3/envs/tensorflow2_p310/lib/python3.10/site-packages/sagemaker/session.py\u001b\\\u001b[2msession.py\u001b[0m\u001b]8;;\u001b\\\u001b[2m:\u001b[0m\u001b]8;id=14991;file:///home/ec2-user/anaconda3/envs/tensorflow2_p310/lib/python3.10/site-packages/sagemaker/session.py#1042\u001b\\\u001b[2m1042\u001b[0m\u001b]8;;\u001b\\\n",
       "\u001b[2;36m                    \u001b[0m         sagemaker-xgboost-\u001b[1;36m2025\u001b[0m-01-04-05-14-02-316                              \u001b[2m               \u001b[0m\n"
      ]
     },
     "metadata": {},
     "output_type": "display_data"
    },
    {
     "name": "stdout",
     "output_type": "stream",
     "text": [
      "2025-01-04 05:14:02 Starting - Starting the training job...\n",
      "2025-01-04 05:14:23 Starting - Preparing the instances for training...\n",
      "2025-01-04 05:14:49 Downloading - Downloading input data...\n",
      "2025-01-04 05:15:15 Downloading - Downloading the training image...\n",
      "2025-01-04 05:16:00 Training - Training image download completed. Training in progress..\u001b[34m/miniconda3/lib/python3.8/site-packages/xgboost/compat.py:36: FutureWarning: pandas.Int64Index is deprecated and will be removed from pandas in a future version. Use pandas.Index with the appropriate dtype instead.\n",
      "  from pandas import MultiIndex, Int64Index\u001b[0m\n",
      "\u001b[34m[2025-01-04 05:16:05.696 ip-10-0-187-160.eu-west-3.compute.internal:7 INFO utils.py:28] RULE_JOB_STOP_SIGNAL_FILENAME: None\u001b[0m\n",
      "\u001b[34m[2025-01-04 05:16:05.720 ip-10-0-187-160.eu-west-3.compute.internal:7 INFO profiler_config_parser.py:111] User has disabled profiler.\u001b[0m\n",
      "\u001b[34m[2025-01-04:05:16:06:INFO] Imported framework sagemaker_xgboost_container.training\u001b[0m\n",
      "\u001b[34m[2025-01-04:05:16:06:INFO] Failed to parse hyperparameter objective value binary:logistic to Json.\u001b[0m\n",
      "\u001b[34mReturning the value itself\u001b[0m\n",
      "\u001b[34m[2025-01-04:05:16:06:INFO] No GPUs detected (normal if no gpus installed)\u001b[0m\n",
      "\u001b[34m[2025-01-04:05:16:06:INFO] Running XGBoost Sagemaker in algorithm mode\u001b[0m\n",
      "\u001b[34m[2025-01-04:05:16:06:INFO] Determined 0 GPU(s) available on the instance.\u001b[0m\n",
      "\u001b[34m[2025-01-04:05:16:06:INFO] Determined delimiter of CSV input is ','\u001b[0m\n",
      "\u001b[34m[2025-01-04:05:16:06:INFO] files path: /opt/ml/input/data/train\u001b[0m\n",
      "\u001b[34m[2025-01-04:05:16:06:INFO] Determined delimiter of CSV input is ','\u001b[0m\n",
      "\u001b[34m[2025-01-04:05:16:06:INFO] Single node training.\u001b[0m\n",
      "\u001b[34m[2025-01-04:05:16:06:INFO] Train matrix has 713 rows and 8 columns\u001b[0m\n",
      "\u001b[34m[2025-01-04 05:16:06.123 ip-10-0-187-160.eu-west-3.compute.internal:7 INFO json_config.py:92] Creating hook from json_config at /opt/ml/input/config/debughookconfig.json.\u001b[0m\n",
      "\u001b[34m[2025-01-04 05:16:06.123 ip-10-0-187-160.eu-west-3.compute.internal:7 INFO hook.py:206] tensorboard_dir has not been set for the hook. SMDebug will not be exporting tensorboard summaries.\u001b[0m\n",
      "\u001b[34m[2025-01-04 05:16:06.124 ip-10-0-187-160.eu-west-3.compute.internal:7 INFO hook.py:259] Saving to /opt/ml/output/tensors\u001b[0m\n",
      "\u001b[34m[2025-01-04 05:16:06.124 ip-10-0-187-160.eu-west-3.compute.internal:7 INFO state_store.py:77] The checkpoint config file /opt/ml/input/config/checkpointconfig.json does not exist.\u001b[0m\n",
      "\u001b[34m[2025-01-04:05:16:06:INFO] Debug hook created from config\u001b[0m\n",
      "\u001b[34m[05:16:06] WARNING: ../src/learner.cc:1115: Starting in XGBoost 1.3.0, the default evaluation metric used with the objective 'binary:logistic' was changed from 'error' to 'logloss'. Explicitly set eval_metric if you'd like to restore the old behavior.\u001b[0m\n",
      "\u001b[34m[0]#011train-logloss:0.60075\u001b[0m\n",
      "\u001b[34m[2025-01-04 05:16:06.160 ip-10-0-187-160.eu-west-3.compute.internal:7 INFO hook.py:427] Monitoring the collections: metrics\u001b[0m\n",
      "\u001b[34m[2025-01-04 05:16:06.163 ip-10-0-187-160.eu-west-3.compute.internal:7 INFO hook.py:491] Hook is writing from the hook with pid: 7\u001b[0m\n",
      "\u001b[34m[1]#011train-logloss:0.53668\u001b[0m\n",
      "\u001b[34m[2]#011train-logloss:0.49011\u001b[0m\n",
      "\u001b[34m[3]#011train-logloss:0.45513\u001b[0m\n",
      "\u001b[34m[4]#011train-logloss:0.42845\u001b[0m\n",
      "\u001b[34m[5]#011train-logloss:0.40907\u001b[0m\n",
      "\u001b[34m[6]#011train-logloss:0.38909\u001b[0m\n",
      "\u001b[34m[7]#011train-logloss:0.37502\u001b[0m\n",
      "\u001b[34m[8]#011train-logloss:0.36398\u001b[0m\n",
      "\u001b[34m[9]#011train-logloss:0.35579\u001b[0m\n",
      "\u001b[34m[10]#011train-logloss:0.34803\u001b[0m\n",
      "\u001b[34m[11]#011train-logloss:0.34343\u001b[0m\n",
      "\u001b[34m[12]#011train-logloss:0.33361\u001b[0m\n",
      "\u001b[34m[13]#011train-logloss:0.32871\u001b[0m\n",
      "\u001b[34m[14]#011train-logloss:0.32293\u001b[0m\n",
      "\u001b[34m[15]#011train-logloss:0.31892\u001b[0m\n",
      "\u001b[34m[16]#011train-logloss:0.31625\u001b[0m\n",
      "\u001b[34m[17]#011train-logloss:0.31276\u001b[0m\n",
      "\u001b[34m[18]#011train-logloss:0.30653\u001b[0m\n",
      "\u001b[34m[19]#011train-logloss:0.30286\u001b[0m\n",
      "\u001b[34m[20]#011train-logloss:0.29659\u001b[0m\n",
      "\u001b[34m[21]#011train-logloss:0.29391\u001b[0m\n",
      "\u001b[34m[22]#011train-logloss:0.29175\u001b[0m\n",
      "\u001b[34m[23]#011train-logloss:0.28914\u001b[0m\n",
      "\u001b[34m[24]#011train-logloss:0.28742\u001b[0m\n",
      "\u001b[34m[25]#011train-logloss:0.28587\u001b[0m\n",
      "\u001b[34m[26]#011train-logloss:0.28073\u001b[0m\n",
      "\u001b[34m[27]#011train-logloss:0.27666\u001b[0m\n",
      "\u001b[34m[28]#011train-logloss:0.27395\u001b[0m\n",
      "\u001b[34m[29]#011train-logloss:0.27045\u001b[0m\n",
      "\u001b[34m[30]#011train-logloss:0.26698\u001b[0m\n",
      "\u001b[34m[31]#011train-logloss:0.26310\u001b[0m\n",
      "\u001b[34m[32]#011train-logloss:0.25964\u001b[0m\n",
      "\u001b[34m[33]#011train-logloss:0.25594\u001b[0m\n",
      "\u001b[34m[34]#011train-logloss:0.25345\u001b[0m\n",
      "\u001b[34m[35]#011train-logloss:0.25150\u001b[0m\n",
      "\u001b[34m[36]#011train-logloss:0.24979\u001b[0m\n",
      "\u001b[34m[37]#011train-logloss:0.24849\u001b[0m\n",
      "\u001b[34m[38]#011train-logloss:0.24715\u001b[0m\n",
      "\u001b[34m[39]#011train-logloss:0.24546\u001b[0m\n",
      "\u001b[34m[40]#011train-logloss:0.24342\u001b[0m\n",
      "\u001b[34m[41]#011train-logloss:0.24207\u001b[0m\n",
      "\u001b[34m[42]#011train-logloss:0.23948\u001b[0m\n",
      "\u001b[34m[43]#011train-logloss:0.23661\u001b[0m\n",
      "\u001b[34m[44]#011train-logloss:0.23483\u001b[0m\n",
      "\u001b[34m[45]#011train-logloss:0.23273\u001b[0m\n",
      "\u001b[34m[46]#011train-logloss:0.23068\u001b[0m\n",
      "\u001b[34m[47]#011train-logloss:0.22885\u001b[0m\n",
      "\u001b[34m[48]#011train-logloss:0.22747\u001b[0m\n",
      "\u001b[34m[49]#011train-logloss:0.22543\u001b[0m\n",
      "\u001b[34m[50]#011train-logloss:0.22348\u001b[0m\n",
      "\u001b[34m[51]#011train-logloss:0.22158\u001b[0m\n",
      "\u001b[34m[52]#011train-logloss:0.21886\u001b[0m\n",
      "\u001b[34m[53]#011train-logloss:0.21816\u001b[0m\n",
      "\u001b[34m[54]#011train-logloss:0.21699\u001b[0m\n",
      "\u001b[34m[55]#011train-logloss:0.21570\u001b[0m\n",
      "\u001b[34m[56]#011train-logloss:0.21479\u001b[0m\n",
      "\u001b[34m[57]#011train-logloss:0.21319\u001b[0m\n",
      "\u001b[34m[58]#011train-logloss:0.21095\u001b[0m\n",
      "\u001b[34m[59]#011train-logloss:0.20949\u001b[0m\n",
      "\u001b[34m[60]#011train-logloss:0.20801\u001b[0m\n",
      "\u001b[34m[61]#011train-logloss:0.20723\u001b[0m\n",
      "\u001b[34m[62]#011train-logloss:0.20627\u001b[0m\n",
      "\u001b[34m[63]#011train-logloss:0.20470\u001b[0m\n",
      "\u001b[34m[64]#011train-logloss:0.20387\u001b[0m\n",
      "\u001b[34m[65]#011train-logloss:0.20328\u001b[0m\n",
      "\u001b[34m[66]#011train-logloss:0.20124\u001b[0m\n",
      "\u001b[34m[67]#011train-logloss:0.20051\u001b[0m\n",
      "\u001b[34m[68]#011train-logloss:0.19939\u001b[0m\n",
      "\u001b[34m[69]#011train-logloss:0.19834\u001b[0m\n",
      "\u001b[34m[70]#011train-logloss:0.19770\u001b[0m\n",
      "\u001b[34m[71]#011train-logloss:0.19621\u001b[0m\n",
      "\u001b[34m[72]#011train-logloss:0.19551\u001b[0m\n",
      "\u001b[34m[73]#011train-logloss:0.19393\u001b[0m\n",
      "\u001b[34m[74]#011train-logloss:0.19250\u001b[0m\n",
      "\u001b[34m[75]#011train-logloss:0.19197\u001b[0m\n",
      "\u001b[34m[76]#011train-logloss:0.19059\u001b[0m\n",
      "\u001b[34m[77]#011train-logloss:0.18860\u001b[0m\n",
      "\u001b[34m[78]#011train-logloss:0.18701\u001b[0m\n",
      "\u001b[34m[79]#011train-logloss:0.18594\u001b[0m\n",
      "\u001b[34m[80]#011train-logloss:0.18495\u001b[0m\n",
      "\u001b[34m[81]#011train-logloss:0.18415\u001b[0m\n",
      "\u001b[34m[82]#011train-logloss:0.18333\u001b[0m\n",
      "\u001b[34m[83]#011train-logloss:0.18203\u001b[0m\n",
      "\u001b[34m[84]#011train-logloss:0.18036\u001b[0m\n",
      "\u001b[34m[85]#011train-logloss:0.17868\u001b[0m\n",
      "\u001b[34m[86]#011train-logloss:0.17775\u001b[0m\n",
      "\u001b[34m[87]#011train-logloss:0.17547\u001b[0m\n",
      "\u001b[34m[88]#011train-logloss:0.17434\u001b[0m\n",
      "\u001b[34m[89]#011train-logloss:0.17341\u001b[0m\n",
      "\u001b[34m[90]#011train-logloss:0.17288\u001b[0m\n",
      "\u001b[34m[91]#011train-logloss:0.17133\u001b[0m\n",
      "\u001b[34m[92]#011train-logloss:0.17064\u001b[0m\n",
      "\u001b[34m[93]#011train-logloss:0.16946\u001b[0m\n",
      "\u001b[34m[94]#011train-logloss:0.16843\u001b[0m\n",
      "\u001b[34m[95]#011train-logloss:0.16754\u001b[0m\n",
      "\u001b[34m[96]#011train-logloss:0.16674\u001b[0m\n",
      "\u001b[34m[97]#011train-logloss:0.16601\u001b[0m\n",
      "\u001b[34m[98]#011train-logloss:0.16500\u001b[0m\n",
      "\u001b[34m[99]#011train-logloss:0.16392\u001b[0m\n",
      "\n",
      "2025-01-04 05:16:24 Uploading - Uploading generated training model\n",
      "2025-01-04 05:16:24 Completed - Training job completed\n",
      "Training seconds: 95\n",
      "Billable seconds: 95\n"
     ]
    }
   ],
   "source": [
    "from sagemaker.inputs import TrainingInput\n",
    "from sagemaker.estimator import Estimator\n",
    "import sagemaker\n",
    "\n",
    "\n",
    "container = sagemaker.image_uris.retrieve(\"xgboost\", session.boto_region_name, version=\"1.5-1\")\n",
    "xgb = Estimator(\n",
    "    image_uri=container,\n",
    "    role=role,  \n",
    "    instance_count=1,\n",
    "    instance_type=\"ml.m5.xlarge\",\n",
    "    output_path=f\"s3://{bucket_name}/xgboost-output\",\n",
    "    sagemaker_session=session\n",
    ")\n",
    "\n",
    "\n",
    "xgb.set_hyperparameters(objective=\"binary:logistic\", num_round=100, max_depth=5, eta=0.2, subsample=0.8)\n",
    "\n",
    "\n",
    "train_input = TrainingInput(\n",
    "    f\"s3://{bucket_name}/splitData/X_train_with_labels.csv\",\n",
    "    content_type=\"csv\",\n",
    "    input_mode=\"File\",\n",
    "  \n",
    ")\n",
    "\n",
    "\n",
    "xgb.fit({\"train\": train_input})\n"
   ]
  },
  {
   "cell_type": "code",
   "execution_count": 16,
   "id": "56576f70-3efa-41b7-944b-b194e95ebb69",
   "metadata": {
    "tags": []
   },
   "outputs": [
    {
     "data": {
      "text/html": [
       "<pre style=\"white-space:pre;overflow-x:auto;line-height:normal;font-family:Menlo,'DejaVu Sans Mono',consolas,'Courier New',monospace\"><span style=\"color: #7fbfbf; text-decoration-color: #7fbfbf\">[01/04/25 05:18:57] </span><span style=\"color: #0069ff; text-decoration-color: #0069ff; font-weight: bold\">INFO    </span> Creating model with name: sagemaker-xgboost-<span style=\"color: #008080; text-decoration-color: #008080; font-weight: bold\">2025</span>-01-04-05-18-57-532    <a href=\"file:///home/ec2-user/anaconda3/envs/tensorflow2_p310/lib/python3.10/site-packages/sagemaker/session.py\" target=\"_blank\"><span style=\"color: #7f7f7f; text-decoration-color: #7f7f7f\">session.py</span></a><span style=\"color: #7f7f7f; text-decoration-color: #7f7f7f\">:</span><a href=\"file:///home/ec2-user/anaconda3/envs/tensorflow2_p310/lib/python3.10/site-packages/sagemaker/session.py#4094\" target=\"_blank\"><span style=\"color: #7f7f7f; text-decoration-color: #7f7f7f\">4094</span></a>\n",
       "</pre>\n"
      ],
      "text/plain": [
       "\u001b[2;36m[01/04/25 05:18:57]\u001b[0m\u001b[2;36m \u001b[0m\u001b[1;38;2;0;105;255mINFO    \u001b[0m Creating model with name: sagemaker-xgboost-\u001b[1;36m2025\u001b[0m-01-04-05-18-57-532    \u001b]8;id=689283;file:///home/ec2-user/anaconda3/envs/tensorflow2_p310/lib/python3.10/site-packages/sagemaker/session.py\u001b\\\u001b[2msession.py\u001b[0m\u001b]8;;\u001b\\\u001b[2m:\u001b[0m\u001b]8;id=248443;file:///home/ec2-user/anaconda3/envs/tensorflow2_p310/lib/python3.10/site-packages/sagemaker/session.py#4094\u001b\\\u001b[2m4094\u001b[0m\u001b]8;;\u001b\\\n"
      ]
     },
     "metadata": {},
     "output_type": "display_data"
    },
    {
     "data": {
      "text/html": [
       "<pre style=\"white-space:pre;overflow-x:auto;line-height:normal;font-family:Menlo,'DejaVu Sans Mono',consolas,'Courier New',monospace\"><span style=\"color: #7fbfbf; text-decoration-color: #7fbfbf\">[01/04/25 05:18:58] </span><span style=\"color: #0069ff; text-decoration-color: #0069ff; font-weight: bold\">INFO    </span> Creating endpoint-config with name                                     <a href=\"file:///home/ec2-user/anaconda3/envs/tensorflow2_p310/lib/python3.10/site-packages/sagemaker/session.py\" target=\"_blank\"><span style=\"color: #7f7f7f; text-decoration-color: #7f7f7f\">session.py</span></a><span style=\"color: #7f7f7f; text-decoration-color: #7f7f7f\">:</span><a href=\"file:///home/ec2-user/anaconda3/envs/tensorflow2_p310/lib/python3.10/site-packages/sagemaker/session.py#5889\" target=\"_blank\"><span style=\"color: #7f7f7f; text-decoration-color: #7f7f7f\">5889</span></a>\n",
       "<span style=\"color: #7fbfbf; text-decoration-color: #7fbfbf\">                    </span>         sagemaker-xgboost-<span style=\"color: #008080; text-decoration-color: #008080; font-weight: bold\">2025</span>-01-04-05-18-57-532                              <span style=\"color: #7f7f7f; text-decoration-color: #7f7f7f\">               </span>\n",
       "</pre>\n"
      ],
      "text/plain": [
       "\u001b[2;36m[01/04/25 05:18:58]\u001b[0m\u001b[2;36m \u001b[0m\u001b[1;38;2;0;105;255mINFO    \u001b[0m Creating endpoint-config with name                                     \u001b]8;id=696482;file:///home/ec2-user/anaconda3/envs/tensorflow2_p310/lib/python3.10/site-packages/sagemaker/session.py\u001b\\\u001b[2msession.py\u001b[0m\u001b]8;;\u001b\\\u001b[2m:\u001b[0m\u001b]8;id=395636;file:///home/ec2-user/anaconda3/envs/tensorflow2_p310/lib/python3.10/site-packages/sagemaker/session.py#5889\u001b\\\u001b[2m5889\u001b[0m\u001b]8;;\u001b\\\n",
       "\u001b[2;36m                    \u001b[0m         sagemaker-xgboost-\u001b[1;36m2025\u001b[0m-01-04-05-18-57-532                              \u001b[2m               \u001b[0m\n"
      ]
     },
     "metadata": {},
     "output_type": "display_data"
    },
    {
     "data": {
      "text/html": [
       "<pre style=\"white-space:pre;overflow-x:auto;line-height:normal;font-family:Menlo,'DejaVu Sans Mono',consolas,'Courier New',monospace\"><span style=\"color: #7fbfbf; text-decoration-color: #7fbfbf\">                    </span><span style=\"color: #0069ff; text-decoration-color: #0069ff; font-weight: bold\">INFO    </span> Creating endpoint with name sagemaker-xgboost-<span style=\"color: #008080; text-decoration-color: #008080; font-weight: bold\">2025</span>-01-04-05-18-57-532  <a href=\"file:///home/ec2-user/anaconda3/envs/tensorflow2_p310/lib/python3.10/site-packages/sagemaker/session.py\" target=\"_blank\"><span style=\"color: #7f7f7f; text-decoration-color: #7f7f7f\">session.py</span></a><span style=\"color: #7f7f7f; text-decoration-color: #7f7f7f\">:</span><a href=\"file:///home/ec2-user/anaconda3/envs/tensorflow2_p310/lib/python3.10/site-packages/sagemaker/session.py#4711\" target=\"_blank\"><span style=\"color: #7f7f7f; text-decoration-color: #7f7f7f\">4711</span></a>\n",
       "</pre>\n"
      ],
      "text/plain": [
       "\u001b[2;36m                   \u001b[0m\u001b[2;36m \u001b[0m\u001b[1;38;2;0;105;255mINFO    \u001b[0m Creating endpoint with name sagemaker-xgboost-\u001b[1;36m2025\u001b[0m-01-04-05-18-57-532  \u001b]8;id=762490;file:///home/ec2-user/anaconda3/envs/tensorflow2_p310/lib/python3.10/site-packages/sagemaker/session.py\u001b\\\u001b[2msession.py\u001b[0m\u001b]8;;\u001b\\\u001b[2m:\u001b[0m\u001b]8;id=43334;file:///home/ec2-user/anaconda3/envs/tensorflow2_p310/lib/python3.10/site-packages/sagemaker/session.py#4711\u001b\\\u001b[2m4711\u001b[0m\u001b]8;;\u001b\\\n"
      ]
     },
     "metadata": {},
     "output_type": "display_data"
    },
    {
     "name": "stdout",
     "output_type": "stream",
     "text": [
      "------!"
     ]
    }
   ],
   "source": [
    "xgb_predictor = xgb.deploy(initial_instance_count=1, instance_type=\"ml.m5.large\")\n"
   ]
  }
 ],
 "metadata": {
  "kernelspec": {
   "display_name": "conda_tensorflow2_p310",
   "language": "python",
   "name": "conda_tensorflow2_p310"
  },
  "language_info": {
   "codemirror_mode": {
    "name": "ipython",
    "version": 3
   },
   "file_extension": ".py",
   "mimetype": "text/x-python",
   "name": "python",
   "nbconvert_exporter": "python",
   "pygments_lexer": "ipython3",
   "version": "3.10.16"
  }
 },
 "nbformat": 4,
 "nbformat_minor": 5
}
